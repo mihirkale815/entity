{
 "cells": [
  {
   "cell_type": "code",
   "execution_count": 7,
   "metadata": {},
   "outputs": [],
   "source": [
    "import json\n",
    "from collections import defaultdict\n",
    "import argparse\n",
    "import sys\n",
    "sys.path.append(\"../code\")\n",
    "import utils"
   ]
  },
  {
   "cell_type": "code",
   "execution_count": null,
   "metadata": {},
   "outputs": [],
   "source": [
    "import json\n",
    "from collections import defaultdict\n",
    "import argparse\n",
    "import utils\n",
    "\n",
    "\n",
    "def find_entity_mentions(sentence,entity):\n",
    "\tmentions = []\n",
    "\tidx = 0\n",
    "\twhile idx  < len(sentence):\n",
    "\t\tword,tag = sentence[idx]\n",
    "\t\tif tag == 'O' : \n",
    "\t\t\tidx+=1\n",
    "\t\t\tcontinue\n",
    "\t\tprefix,typ = tag.split(\"-\")\n",
    "\t\tif prefix == 'B' and typ == entity:\n",
    "\t\t\tmention = []\n",
    "\t\t\twhile typ==entity:\n",
    "\t\t\t\tmention.append(word)\n",
    "\t\t\t\tidx+=1\n",
    "\t\t\t\tif idx < len(sentence) : word,tag = sentence[idx]\n",
    "\t\t\t\telse : break\n",
    "\t\t\tmentions.append(mention)\n",
    "\t\t\tcontinue\n",
    "\t\tidx+=1\n",
    "\treturn mentions\n",
    "\n",
    "\n",
    "if __name__ == '__main__':\n",
    "\tparser = argparse.ArgumentParser(description='entity stats')\n",
    "\tparser.add_argument('--output', action=\"store\", dest=\"output_path\",type=str)\n",
    "\tparser.add_argument('--input', action=\"store\", dest=\"input_path\", type=str)\n",
    "\tparser.add_argument('--entity', action=\"store\", dest=\"entity\", type=str)\n",
    "\targs = parser.parse_args()\n",
    "\t\n",
    "\tsentence_g = utils.sentence_generator(args.input_path)\n",
    "\t\n",
    "\tfout = open(args.output_path,\"w\")\n",
    "\n",
    "\tentity_counts = defaultdict(int)\n",
    "\tfor sentence in sentence_g:\n",
    "\t\tmentions = find_entity_mentions(sentence,args.entity)\n",
    "\t\tif len(mentions) > 1 : print(mentions)\n",
    "\t\tif len(mentions) == 0 : \n",
    "\t\t\tfout.write(\"\\n\")\n",
    "\t\t\tcontinue\n",
    "\t\tent = \" \".join(mentions[0])\n",
    "\t\tentity_counts[ent] += 1\n",
    "\t\tfout.write(ent+\"\\n\")\n",
    "\tprint(len(entity_counts),sum(entity_counts.values()))"
   ]
  }
 ],
 "metadata": {
  "kernelspec": {
   "display_name": "Python 3",
   "language": "python",
   "name": "python3"
  },
  "language_info": {
   "codemirror_mode": {
    "name": "ipython",
    "version": 3
   },
   "file_extension": ".py",
   "mimetype": "text/x-python",
   "name": "python",
   "nbconvert_exporter": "python",
   "pygments_lexer": "ipython3",
   "version": "3.6.3"
  }
 },
 "nbformat": 4,
 "nbformat_minor": 1
}
