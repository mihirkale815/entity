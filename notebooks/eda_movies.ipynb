{
 "cells": [
  {
   "cell_type": "code",
   "execution_count": 1,
   "metadata": {},
   "outputs": [],
   "source": [
    "import pandas as pd\n",
    "import sys\n",
    "sys.path.append(\"../code/data\")\n",
    "import utils\n",
    "import json\n",
    "import string\n",
    "import re\n",
    "import numpy as np\n",
    "import collections\n",
    "import matplotlib.pyplot as plt\n",
    "%matplotlib inline\n",
    "from sklearn.feature_extraction.text import CountVectorizer"
   ]
  },
  {
   "cell_type": "code",
   "execution_count": 2,
   "metadata": {},
   "outputs": [
    {
     "name": "stderr",
     "output_type": "stream",
     "text": [
      "/Users/mihirkale.s/PycharmProjects/entity/venv/lib/python3.6/site-packages/IPython/core/interactiveshell.py:2785: DtypeWarning: Columns (7) have mixed types. Specify dtype option on import or set low_memory=False.\n",
      "  interactivity=interactivity, compiler=compiler, result=result)\n"
     ]
    }
   ],
   "source": [
    "df_title_akas = pd.read_csv(\"../data/imdb/title.akas.tsv\",sep='\\t',header='infer')"
   ]
  },
  {
   "cell_type": "code",
   "execution_count": 3,
   "metadata": {},
   "outputs": [
    {
     "name": "stderr",
     "output_type": "stream",
     "text": [
      "/Users/mihirkale.s/PycharmProjects/entity/venv/lib/python3.6/site-packages/IPython/core/interactiveshell.py:2785: DtypeWarning: Columns (5) have mixed types. Specify dtype option on import or set low_memory=False.\n",
      "  interactivity=interactivity, compiler=compiler, result=result)\n"
     ]
    }
   ],
   "source": [
    "df_title_basics = pd.read_csv(\"../data/imdb/title.basics.tsv\",sep='\\t',header='infer')"
   ]
  },
  {
   "cell_type": "code",
   "execution_count": 4,
   "metadata": {},
   "outputs": [],
   "source": [
    "translator = str.maketrans('', '', string.punctuation)\n",
    "df_title_basics['primaryTitle'] = df_title_basics['primaryTitle'].str.lower()\n",
    "df_title_basics['primaryTitle'] = df_title_basics['primaryTitle'].apply(lambda x : str(x).translate(translator))"
   ]
  },
  {
   "cell_type": "code",
   "execution_count": 5,
   "metadata": {},
   "outputs": [],
   "source": [
    "df_title_basics['genres'] = df_title_basics['genres'].str.lower()"
   ]
  },
  {
   "cell_type": "code",
   "execution_count": 6,
   "metadata": {},
   "outputs": [],
   "source": [
    "df_title_akas['title'] = df_title_akas['title'].str.lower()\n",
    "df_title_akas['title'] = df_title_akas['title'].apply(lambda x : str(x).translate(translator))"
   ]
  },
  {
   "cell_type": "code",
   "execution_count": 7,
   "metadata": {},
   "outputs": [],
   "source": [
    "#df_title_basics[df_title_basics['genres'] == 'Romance']"
   ]
  },
  {
   "cell_type": "code",
   "execution_count": 8,
   "metadata": {},
   "outputs": [],
   "source": [
    "traindata = [json.loads(line) for line in open(\"../data/mit-movie-1/original/engtrain.json\")]\n",
    "devdata = [json.loads(line) for line in open(\"../data/mit-movie-1/original/engdev.json\")]"
   ]
  },
  {
   "cell_type": "code",
   "execution_count": 9,
   "metadata": {},
   "outputs": [],
   "source": [
    "def get_titles(data):\n",
    "    titles = []\n",
    "    for text,annotations in data:\n",
    "        if 'title' not in annotations:continue\n",
    "        title_list = annotations.get('title')\n",
    "        for title in title_list: titles.append(title[0])\n",
    "    return titles\n",
    "\n",
    "def get_title_counts(titles):\n",
    "    titles_count = collections.defaultdict(int)\n",
    "    for title in titles : titles_count[title] += 1\n",
    "    return titles_count"
   ]
  },
  {
   "cell_type": "code",
   "execution_count": 22,
   "metadata": {},
   "outputs": [],
   "source": [
    "#df_title_akas.join(df_title_basics,on='titleId')"
   ]
  },
  {
   "cell_type": "code",
   "execution_count": 43,
   "metadata": {},
   "outputs": [],
   "source": [
    "df_titles = pd.merge(df_title_basics,df_title_akas, how = 'left', right_on = 'titleId', left_on = 'tconst')"
   ]
  },
  {
   "cell_type": "code",
   "execution_count": 53,
   "metadata": {},
   "outputs": [],
   "source": [
    "df_titles = df_titles[ (df_titles['titleType'] == 'movie') ]"
   ]
  },
  {
   "cell_type": "code",
   "execution_count": 54,
   "metadata": {},
   "outputs": [
    {
     "name": "stderr",
     "output_type": "stream",
     "text": [
      "/Users/mihirkale.s/PycharmProjects/entity/venv/lib/python3.6/site-packages/ipykernel_launcher.py:1: SettingWithCopyWarning: \n",
      "A value is trying to be set on a copy of a slice from a DataFrame.\n",
      "Try using .loc[row_indexer,col_indexer] = value instead\n",
      "\n",
      "See the caveats in the documentation: http://pandas.pydata.org/pandas-docs/stable/indexing.html#indexing-view-versus-copy\n",
      "  \"\"\"Entry point for launching an IPython kernel.\n",
      "/Users/mihirkale.s/PycharmProjects/entity/venv/lib/python3.6/site-packages/ipykernel_launcher.py:2: SettingWithCopyWarning: \n",
      "A value is trying to be set on a copy of a slice from a DataFrame.\n",
      "Try using .loc[row_indexer,col_indexer] = value instead\n",
      "\n",
      "See the caveats in the documentation: http://pandas.pydata.org/pandas-docs/stable/indexing.html#indexing-view-versus-copy\n",
      "  \n"
     ]
    }
   ],
   "source": [
    "df_titles['is_romance'] = df_titles['genres'].apply(lambda x : 'romance' in str(x).split(\",\"))\n",
    "df_titles['is_action'] = df_titles['genres'].apply(lambda x : 'action' in str(x).split(\",\"))"
   ]
  },
  {
   "cell_type": "code",
   "execution_count": 55,
   "metadata": {},
   "outputs": [
    {
     "name": "stderr",
     "output_type": "stream",
     "text": [
      "/Users/mihirkale.s/PycharmProjects/entity/venv/lib/python3.6/site-packages/ipykernel_launcher.py:1: SettingWithCopyWarning: \n",
      "A value is trying to be set on a copy of a slice from a DataFrame.\n",
      "Try using .loc[row_indexer,col_indexer] = value instead\n",
      "\n",
      "See the caveats in the documentation: http://pandas.pydata.org/pandas-docs/stable/indexing.html#indexing-view-versus-copy\n",
      "  \"\"\"Entry point for launching an IPython kernel.\n"
     ]
    }
   ],
   "source": [
    "df_titles['startYearInt'] = df_titles['startYear'].apply(lambda x : int(x) if x!=\"\\\\N\" else -1)"
   ]
  },
  {
   "cell_type": "code",
   "execution_count": 56,
   "metadata": {},
   "outputs": [],
   "source": [
    "hindi_titles = list(set(df_titles[  (df_titles['region'] == 'IN') ]['primaryTitle'].values))\n",
    "us_titles = list(set(df_titles[  (df_titles['region'] == 'US') ]['primaryTitle'].values))"
   ]
  },
  {
   "cell_type": "code",
   "execution_count": 57,
   "metadata": {},
   "outputs": [],
   "source": [
    "recent_titles = list(set(df_titles[  (df_titles['region'] == 'US') & (df_titles['startYearInt'] > 2010)]['primaryTitle'].values))\n",
    "recent_titles = [title for title in recent_titles if len(title) > 0 ]"
   ]
  },
  {
   "cell_type": "code",
   "execution_count": 58,
   "metadata": {},
   "outputs": [],
   "source": [
    "old_titles = list(set(df_titles[  (df_titles['region'] == 'US') & (df_titles['startYearInt'] < 1980) & (df_titles['startYearInt'] > 1950)]['primaryTitle'].values))\n",
    "old_titles = [title for title in old_titles if len(title) > 0 ]"
   ]
  },
  {
   "cell_type": "code",
   "execution_count": 61,
   "metadata": {},
   "outputs": [],
   "source": [
    "#df_titles[  (df_titles['region'] == 'IN') ]"
   ]
  },
  {
   "cell_type": "code",
   "execution_count": 62,
   "metadata": {},
   "outputs": [],
   "source": [
    "from collections import defaultdict\n",
    "title2genre = dict(df_titles[  (df_titles['region'] == 'US') ][['primaryTitle','genres']].values)\n",
    "genre2title = defaultdict(set)\n",
    "for title,genre_str in title2genre.items():\n",
    "    genres = genre_str.split(\",\")\n",
    "    for genre in genres : genre2title[genre].add(title)\n",
    "#df_titles[df_titles['is_action'] == True]"
   ]
  },
  {
   "cell_type": "code",
   "execution_count": 63,
   "metadata": {},
   "outputs": [],
   "source": [
    "def write_to_bio_file(f,tokens,tags):\n",
    "    for token,tag in zip(tokens,tags):\n",
    "        f.write(tag + \"\\t\" + token + \"\\n\")\n",
    "    f.write(\"\\n\")\n",
    "    "
   ]
  },
  {
   "cell_type": "code",
   "execution_count": 64,
   "metadata": {},
   "outputs": [],
   "source": [
    "\n",
    "\n",
    "def create_dataset(entities,slot,in_path,in_ann_path,out_path):\n",
    "    sentence_g = utils.sentence_generator(in_path)\n",
    "    tagged_sentences = [k for k in sentence_g]\n",
    "    dataset = [json.loads(line) for line in open(in_ann_path)]\n",
    "    f = open(out_path,\"w\")    \n",
    "    \n",
    "    for sentence_idx,tagged_sentence in enumerate(tagged_sentences):\n",
    "\n",
    "        text,annotations = dataset[sentence_idx]\n",
    "        tokens = [token for (token, _) in tagged_sentence]\n",
    "        tags = [tag for (_, tag) in tagged_sentence]\n",
    "        \n",
    "        if slot not in annotations : \n",
    "            write_to_bio_file(f,tokens,tags)\n",
    "            continue\n",
    "            \n",
    "        _,start_idx,end_idx = annotations[slot][0]\n",
    "        tokens = text.split()\n",
    "        random_entity_tokens = np.random.choice(entities).split()\n",
    "        random_entity_tags = ['I-'+slot.upper() for token in random_entity_tokens]\n",
    "        random_entity_tags[0] = 'B-' + slot.upper()\n",
    "\n",
    "        lhs_tokens,lhs_tags = tokens[:start_idx],tags[:start_idx]\n",
    "        rhs_tokens,rhs_tags = tokens[end_idx+1:],tags[end_idx+1:]\n",
    "\n",
    "        new_tokens = lhs_tokens + random_entity_tokens + rhs_tokens\n",
    "        new_tags = lhs_tags + random_entity_tags + rhs_tags\n",
    "\n",
    "        write_to_bio_file(f,new_tokens,new_tags)\n",
    "    f.close()"
   ]
  },
  {
   "cell_type": "code",
   "execution_count": 71,
   "metadata": {},
   "outputs": [],
   "source": [
    "dev_inn_ann_path = \"../data/mit-movie-1/original/engdev.json\"\n",
    "dev_in_path = \"../data/mit-movie-1/original/engdev.bio\"\n",
    "\n",
    "train_inn_ann_path = \"../data/mit-movie-1/original/engtrain.json\"\n",
    "train_in_path = \"../data/mit-movie-1/original/engtrain.bio\"\n",
    "\n",
    "romance_titles = np.array(list(genre2title['romance']))\n",
    "action_titles = np.array(list(genre2title['action']))\n",
    "\n",
    "out_path = \"../data/mit-movie-1/romance_dev.bio\"\n",
    "create_dataset(romance_titles,'title',dev_in_path,dev_inn_ann_path,out_path)\n",
    "out_path = \"../data/mit-movie-1/romance_train.bio\"\n",
    "create_dataset(romance_titles,'title',train_in_path,train_inn_ann_path,out_path) \n",
    "\n",
    "out_path = \"../data/mit-movie-1/action_dev.bio\"\n",
    "create_dataset(action_titles,'title',dev_in_path,dev_inn_ann_path,out_path)\n",
    "out_path = \"../data/mit-movie-1/action_train.bio\"\n",
    "create_dataset(action_titles,'title',train_in_path,train_inn_ann_path,out_path) \n",
    "\n",
    "out_path = \"../data/mit-movie-1/old_dev.bio\"\n",
    "create_dataset(old_titles,'title',dev_in_path,dev_inn_ann_path,out_path)\n",
    "out_path = \"../data/mit-movie-1/old_train.bio\"\n",
    "create_dataset(old_titles,'title',train_in_path,train_inn_ann_path,out_path) \n",
    "\n",
    "out_path = \"../data/mit-movie-1/recent_dev.bio\"\n",
    "create_dataset(recent_titles,'title',dev_in_path,dev_inn_ann_path,out_path)\n",
    "out_path = \"../data/mit-movie-1/recent_train.bio\"\n",
    "create_dataset(recent_titles,'title',train_in_path,train_inn_ann_path,out_path) "
   ]
  },
  {
   "cell_type": "code",
   "execution_count": 72,
   "metadata": {},
   "outputs": [],
   "source": [
    "out_path = \"../data/mit-movie-1/bollywood_dev.bio\"\n",
    "create_dataset(hindi_titles,'title',dev_in_path,dev_inn_ann_path,out_path)\n",
    "out_path = \"../data/mit-movie-1/bollywood_train.bio\"\n",
    "create_dataset(hindi_titles,'title',train_in_path,train_inn_ann_path,out_path) \n",
    "\n",
    "out_path = \"../data/mit-movie-1/us_dev.bio\"\n",
    "create_dataset(us_titles,'title',dev_in_path,dev_inn_ann_path,out_path)\n",
    "out_path = \"../data/mit-movie-1/us_train.bio\"\n",
    "create_dataset(us_titles,'title',train_in_path,train_inn_ann_path,out_path) "
   ]
  },
  {
   "cell_type": "code",
   "execution_count": null,
   "metadata": {},
   "outputs": [],
   "source": []
  }
 ],
 "metadata": {
  "kernelspec": {
   "display_name": "Python 3",
   "language": "python",
   "name": "python3"
  },
  "language_info": {
   "codemirror_mode": {
    "name": "ipython",
    "version": 3
   },
   "file_extension": ".py",
   "mimetype": "text/x-python",
   "name": "python",
   "nbconvert_exporter": "python",
   "pygments_lexer": "ipython3",
   "version": "3.6.3"
  }
 },
 "nbformat": 4,
 "nbformat_minor": 1
}
